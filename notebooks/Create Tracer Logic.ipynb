{
 "cells": [
  {
   "cell_type": "code",
   "execution_count": 1,
   "metadata": {},
   "outputs": [],
   "source": [
    "import sys\n",
    "from traceback import format_exc\n",
    "sys.path.append(\"../\")\n",
    "from trace_decorator import trace"
   ]
  },
  {
   "cell_type": "code",
   "execution_count": 2,
   "metadata": {},
   "outputs": [
    {
     "data": {
      "text/plain": [
       "'bcdefg'"
      ]
     },
     "execution_count": 2,
     "metadata": {},
     "output_type": "execute_result"
    }
   ],
   "source": [
    "s = \"abcdefg\"\n",
    "ix = s.find(\"bc\")\n",
    "s[ix:]"
   ]
  },
  {
   "cell_type": "code",
   "execution_count": 5,
   "metadata": {},
   "outputs": [
    {
     "name": "stdout",
     "output_type": "stream",
     "text": [
      "    @trace\n",
      "    def a_function():                                 | \n",
      "                                                      | \n",
      "        i = 0                                         | i = 0 \n",
      "        i += 1                                        | i = 1 \n",
      "                                                      | \n",
      "        s = \"a\"                                       | s = 'a' \n",
      "        s += \"b\"                                      | s = 'ab' \n",
      "        s += \"c\"                                      | s = 'abc' \n",
      "                                                      | \n",
      "        l = []                                        | l = [] \n",
      "        l.append(i)                                   | l = [1] \n",
      "        l.append(s)                                   | l = [1, 'abc'] \n",
      "        l.append(l)                                   | l = [1, 'abc', [...]] l = [1, 'abc', [...]] \n",
      "                                                      | \n",
      "        t = global_var                                | t = 'Simon Says' \n",
      "    #     t = 999                                     | \n",
      "                                                      | \n",
      "        print(s + s + s)                              | print('abcabcabc') \n",
      "        for i in range(4):                            | i = 0            | i = 1            | i = 2            | i = 3 \n",
      "            i_sq_a_a_a_a = i ** 2                     | i_sq_a_a_a_a = 0 | i_sq_a_a_a_a = 1 | i_sq_a_a_a_a = 4 | i_sq_a_a_a_a = 9 \n",
      "                                                      | \n",
      "        return t                                      | return 'Simon Says' \n"
     ]
    },
    {
     "data": {
      "text/plain": [
       "'Simon Says'"
      ]
     },
     "execution_count": 5,
     "metadata": {},
     "output_type": "execute_result"
    }
   ],
   "source": [
    "global_var = \"Simon Says\"\n",
    "\n",
    "@trace\n",
    "def a_function():\n",
    "\n",
    "    i = 0\n",
    "    i += 1\n",
    "\n",
    "    s = \"a\"\n",
    "    s += \"b\"\n",
    "    s += \"c\"\n",
    "\n",
    "    l = []\n",
    "    l.append(i)\n",
    "    l.append(s)\n",
    "    l.append(l)\n",
    "\n",
    "    t = global_var\n",
    "#     t = 999\n",
    "\n",
    "    print(s + s + s)\n",
    "    for i in range(4):\n",
    "        i_sq_a_a_a_a = i ** 2\n",
    "    \n",
    "    return t\n",
    "\n",
    "a_function()"
   ]
  },
  {
   "cell_type": "code",
   "execution_count": 6,
   "metadata": {},
   "outputs": [
    {
     "data": {
      "text/plain": [
       "(91, 91)"
      ]
     },
     "execution_count": 6,
     "metadata": {},
     "output_type": "execute_result"
    }
   ],
   "source": [
    "len(\"*** Trace Output *** \" + \"-\" * 70), len(\"*** END Trace Output ***\" + \"-\" * 67)"
   ]
  },
  {
   "cell_type": "code",
   "execution_count": null,
   "metadata": {},
   "outputs": [],
   "source": []
  }
 ],
 "metadata": {
  "kernelspec": {
   "display_name": "Python [conda env:work] *",
   "language": "python",
   "name": "conda-env-work-py"
  },
  "language_info": {
   "codemirror_mode": {
    "name": "ipython",
    "version": 3
   },
   "file_extension": ".py",
   "mimetype": "text/x-python",
   "name": "python",
   "nbconvert_exporter": "python",
   "pygments_lexer": "ipython3",
   "version": "3.7.4"
  }
 },
 "nbformat": 4,
 "nbformat_minor": 4
}
