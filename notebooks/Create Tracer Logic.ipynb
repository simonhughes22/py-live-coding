{
 "cells": [
  {
   "cell_type": "code",
   "execution_count": 1,
   "metadata": {},
   "outputs": [],
   "source": [
    "import sys\n",
    "from traceback import format_exc\n",
    "sys.path.append(\"../\")"
   ]
  },
  {
   "cell_type": "code",
   "execution_count": 3,
   "metadata": {},
   "outputs": [],
   "source": [
    "from code_tracer import CodeTracer\n",
    "from report_builder import ReportBuilder"
   ]
  },
  {
   "cell_type": "code",
   "execution_count": 6,
   "metadata": {},
   "outputs": [],
   "source": [
    "def parsecode(code):\n",
    "    try:\n",
    "        if not code or len(code.strip()) == 0:\n",
    "            return {\"error\": \"code is null or empty\"}\n",
    "\n",
    "        tracer = CodeTracer()\n",
    "        tracer.max_width = 200000\n",
    "        code_report = tracer.trace_code(code, dump=False)\n",
    "        return code_report\n",
    "    \n",
    "    except Exception as e:\n",
    "        exc = format_exc()\n",
    "        print(exc)\n",
    "        return None"
   ]
  },
  {
   "cell_type": "code",
   "execution_count": 8,
   "metadata": {},
   "outputs": [
    {
     "name": "stdout",
     "output_type": "stream",
     "text": [
      "Traceback (most recent call last):\n",
      "  File \"<ipython-input-6-338610e8f599>\", line 3, in parsecode\n",
      "    code = request.form[\"code\"]\n",
      "NameError: name 'request' is not defined\n",
      "\n"
     ]
    }
   ],
   "source": [
    "code = \"\"\"\n",
    "\n",
    "i = 0\n",
    "i += 1\n",
    "\n",
    "s = \"a\"\n",
    "s += \"b\"\n",
    "s += \"c\"\n",
    "\n",
    "l = []\n",
    "l.append(i)\n",
    "l.append(s)\n",
    "l.append(l)\n",
    "\"\"\"\n",
    "\n",
    "parsecode(code)"
   ]
  },
  {
   "cell_type": "code",
   "execution_count": null,
   "metadata": {},
   "outputs": [],
   "source": []
  }
 ],
 "metadata": {
  "kernelspec": {
   "display_name": "Python [conda env:work] *",
   "language": "python",
   "name": "conda-env-work-py"
  },
  "language_info": {
   "codemirror_mode": {
    "name": "ipython",
    "version": 3
   },
   "file_extension": ".py",
   "mimetype": "text/x-python",
   "name": "python",
   "nbconvert_exporter": "python",
   "pygments_lexer": "ipython3",
   "version": "3.7.4"
  }
 },
 "nbformat": 4,
 "nbformat_minor": 4
}
