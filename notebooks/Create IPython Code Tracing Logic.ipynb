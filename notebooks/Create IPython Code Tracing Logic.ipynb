{
 "cells": [
  {
   "cell_type": "code",
   "execution_count": 1,
   "metadata": {},
   "outputs": [],
   "source": [
    "import sys\n",
    "from traceback import format_exc\n",
    "sys.path.append(\"../\")\n",
    "from trace_decorator import trace"
   ]
  },
  {
   "cell_type": "code",
   "execution_count": 2,
   "metadata": {},
   "outputs": [
    {
     "data": {
      "text/plain": [
       "'bcdefg'"
      ]
     },
     "execution_count": 2,
     "metadata": {},
     "output_type": "execute_result"
    }
   ],
   "source": [
    "s = \"abcdefg\"\n",
    "ix = s.find(\"bc\")\n",
    "s[ix:]"
   ]
  },
  {
   "cell_type": "code",
   "execution_count": 3,
   "metadata": {},
   "outputs": [
    {
     "name": "stdout",
     "output_type": "stream",
     "text": [
      "*** Trace Output *** -----------------------------------------------------------\n",
      "    @trace\n",
      "    def a_function():                                  | \n",
      "                                                       | \n",
      "        i = 0                                          | i = 0 \n",
      "        i += 1                                         | i = 1 \n",
      "                                                       | \n",
      "        s = \"a\"                                        | s = 'a' \n",
      "        s += \"b\"                                       | s = 'ab' \n",
      "        s += \"c\"                                       | s = 'abc' \n",
      "                                                       | \n",
      "        l = []                                         | l = [] \n",
      "        l.append(i)                                    | l = [1] \n",
      "        l.append(s)                                    | l = [1, 'abc'] \n",
      "        l.append(l)                                    | l = [1, 'abc', [...]] l = [1, 'abc', [...]] \n",
      "                                                       | \n",
      "        t = global_var                                 | t = 'Simon Says' \n",
      "    #     t = 999                                      | \n",
      "                                                       | \n",
      "        print(s + s + s)                               | print('abcabcabc') \n",
      "        for i in range(4):                             | i = 0            | i = 1            | i = 2            | i = 3 \n",
      "            i_sq_a_a_a_a = i ** 2                      | i_sq_a_a_a_a = 0 | i_sq_a_a_a_a = 1 | i_sq_a_a_a_a = 4 | i_sq_a_a_a_a = 9 \n",
      "                                                       | \n",
      "        return t                                       | return 'Simon Says' \n",
      "*** END Trace Output *** -------------------------------------------------------\n"
     ]
    },
    {
     "data": {
      "text/plain": [
       "'Simon Says'"
      ]
     },
     "execution_count": 3,
     "metadata": {},
     "output_type": "execute_result"
    }
   ],
   "source": [
    "global_var = \"Simon Says\"\n",
    "\n",
    "@trace\n",
    "def a_function():\n",
    "\n",
    "    i = 0\n",
    "    i += 1\n",
    "\n",
    "    s = \"a\"\n",
    "    s += \"b\"\n",
    "    s += \"c\"\n",
    "\n",
    "    l = []\n",
    "    l.append(i)\n",
    "    l.append(s)\n",
    "    l.append(l)\n",
    "\n",
    "    t = global_var\n",
    "#     t = 999\n",
    "\n",
    "    print(s + s + s)\n",
    "    for i in range(4):\n",
    "        i_sq_a_a_a_a = i ** 2\n",
    "    \n",
    "    return t\n",
    "\n",
    "a_function()"
   ]
  },
  {
   "cell_type": "code",
   "execution_count": 4,
   "metadata": {},
   "outputs": [
    {
     "data": {
      "text/plain": [
       "(91, 91)"
      ]
     },
     "execution_count": 4,
     "metadata": {},
     "output_type": "execute_result"
    }
   ],
   "source": [
    "len(\"*** Trace Output *** \" + \"-\" * 70), len(\"*** END Trace Output ***\" + \"-\" * 67)"
   ]
  },
  {
   "cell_type": "code",
   "execution_count": 5,
   "metadata": {},
   "outputs": [],
   "source": [
    "from code_tracer import CodeTracer\n",
    "\n",
    "from IPython import get_ipython\n",
    "from IPython.core.magic import Magics, magics_class, cell_magic\n",
    "\n",
    "@magics_class\n",
    "class TraceCellMagic(Magics):\n",
    "\n",
    "    # override default constructor so we can pass state between magics\n",
    "    def __init__(self, shell):\n",
    "        # You must call the parent constructor\n",
    "        super(TraceCellMagic, self).__init__(shell)\n",
    "\n",
    "    @cell_magic\n",
    "    def trace(self, line, cell):\n",
    "\n",
    "        source = cell\n",
    "        ipython = get_ipython()\n",
    "\n",
    "        dump = True\n",
    "        max_width = 2000\n",
    "\n",
    "        tracer = CodeTracer()\n",
    "        tracer.max_width = max_width\n",
    "\n",
    "        trace = tracer.trace_code(source, global_context=ipython.user_ns, local_context=dict(), dump=dump)\n",
    "\n",
    "        print(\"*** Trace Output *** \".ljust(80,\"-\"))\n",
    "        print()\n",
    "        print(trace)\n",
    "        print()\n",
    "        print(\"*** END Trace Output *** \".ljust(80,\"-\"))\n",
    "        \n",
    "#         return trace\n",
    "\n",
    "def load_ipython_extension(ipython):\n",
    "    \"\"\"\n",
    "    Any module file that define a function named `load_ipython_extension`\n",
    "    can be loaded via `%load_ext module.path` or be configured to be\n",
    "    autoloaded by IPython at startup time.\n",
    "    \"\"\"\n",
    "    # You can register the class itself without instantiating it.  IPython will\n",
    "    # call the default constructor on it.\n",
    "    ipython.register_magics(TraceCellMagic)"
   ]
  },
  {
   "cell_type": "code",
   "execution_count": 6,
   "metadata": {},
   "outputs": [],
   "source": [
    "ipy = get_ipython()\n",
    "load_ipython_extension(ipy)"
   ]
  },
  {
   "cell_type": "code",
   "execution_count": 7,
   "metadata": {},
   "outputs": [],
   "source": [
    "gloabl_var = \"I am a global var\""
   ]
  },
  {
   "cell_type": "code",
   "execution_count": 11,
   "metadata": {},
   "outputs": [
    {
     "name": "stdout",
     "output_type": "stream",
     "text": [
      "*** Trace Output *** -----------------------------------------------------------\n",
      "\n",
      "    import pandas as pd                                            | \n",
      "                                                                   | \n",
      "    rows = [{\"ix\": i, \"i**2\": i**2, \"2i\": 2*i} for i in range(10)] | rows = [{'ix': 0, 'i**2': 0, '2i': 0}, {'ix': 1, 'i**2': 1, '2i': 2}, {'ix': 2, 'i**2': 4, '2i': 4}, {'ix': 3, 'i**2': 9, '2i': 6}, {'ix': 4, 'i**2': 16, '2i': 8}, {'ix': 5, 'i**2': 25, '2i': 10}, {'ix': 6, 'i**2': 36, '2i': 12}, {'ix': 7, 'i**2': 49, '2i': 14}, {'ix': 8, 'i**2': 64, '2i': 16}, {'ix': 9, 'i**2': 81, '2i': 18}] \n",
      "                                                                   | \n",
      "    df = pd.DataFrame(rows)                                        | df = ix i**2 2i 0 0 0 0 1 1 1 2 2 2 4 4 3 3 9 6 4 4 16 8 5 5 25 10 6 6 36 12 7 7 49 14 8 8 64 16 9 9 81 18 \n",
      "                                                                   | \n",
      "    def add_2_things(a,b):                                         | a = 1 b = 3 | a = 'aaa' b = 'bbb' \n",
      "        return a + b                                               | return 4    | return 'aaabbb' \n",
      "                                                                   | \n",
      "    a = \"ssss\"                                                     | a = 'ssss' \n",
      "    b = 121212                                                     | b = 121212 \n",
      "                                                                   | \n",
      "    nums = add_2_things(1,3)                                       | nums = 4 \n",
      "    strings = add_2_things(\"aaa\",\"bbb\")                            | strings = 'aaabbb' \n",
      "                                                                   | \n",
      "    t = global_var                                                 | t = 'Simon Says' \n",
      "    print(t)                                                       | \n",
      "    print(t)                                                       | \n",
      "    print(t)                                                       | \n",
      "                                                                   | \n",
      "    d = \"asasasasas\"                                               | d = 'asasasasas' \n",
      "\n",
      "*** END Trace Output *** -------------------------------------------------------\n"
     ]
    }
   ],
   "source": [
    "%%trace\n",
    "import pandas as pd\n",
    "\n",
    "rows = [{\"ix\": i, \"i**2\": i**2, \"2i\": 2*i} for i in range(10)]\n",
    "\n",
    "df = pd.DataFrame(rows)\n",
    "\n",
    "def add_2_things(a,b):\n",
    "    return a + b\n",
    "\n",
    "a = \"ssss\"\n",
    "b = 121212\n",
    "\n",
    "nums = add_2_things(1,3)\n",
    "strings = add_2_things(\"aaa\",\"bbb\")\n",
    "\n",
    "t = global_var\n",
    "print(t)\n",
    "print(t)\n",
    "print(t)\n",
    "\n",
    "d = \"asasasasas\""
   ]
  },
  {
   "cell_type": "markdown",
   "metadata": {},
   "source": [
    "## TODO\n",
    "- If max line width exceeded, just truncate with ....\n",
    "- Add a function and method that returns the dataframe for querying\n",
    "- Add option to add call counts or time to the trace output\n",
    "- Add a profiling option to profile the code and produce a profile report instead (number of calls or time spent)"
   ]
  },
  {
   "cell_type": "code",
   "execution_count": null,
   "metadata": {},
   "outputs": [],
   "source": []
  }
 ],
 "metadata": {
  "kernelspec": {
   "display_name": "Python [conda env:work] *",
   "language": "python",
   "name": "conda-env-work-py"
  },
  "language_info": {
   "codemirror_mode": {
    "name": "ipython",
    "version": 3
   },
   "file_extension": ".py",
   "mimetype": "text/x-python",
   "name": "python",
   "nbconvert_exporter": "python",
   "pygments_lexer": "ipython3",
   "version": "3.7.4"
  }
 },
 "nbformat": 4,
 "nbformat_minor": 4
}
